{
 "cells": [
  {
   "cell_type": "code",
   "execution_count": 8,
   "metadata": {},
   "outputs": [],
   "source": [
    "%matplotlib inline\n",
    "from urllib.parse import quote_plus\n",
    "import scipy\n",
    "import pandas as pd\n",
    "from numpy import nanmean\n",
    "import seaborn as sns"
   ]
  },
  {
   "cell_type": "markdown",
   "metadata": {},
   "source": [
    "# Graphing GRU data from the Gainesville data portal\n",
    "\n",
    "This notebook is a simple example of retrieving and working with data from the \n",
    "City of Gainesville Floida's [open data portal](https://data.cityofgainesville.org/).\n",
    "This site makes data availible through the [Socrata](https://socrata.com/) software service. Documentation for working with the Socrata API is on their [developer site](https://dev.socrata.com/consumers/getting-started.html).\n",
    "\n",
    "One of the datasets that Gainesville makes availible is the monthy electricity usage from the [Gainesville Regional Utilities](http://www.gru.com/) billing records for every property in town. This data is part of the public record.\n",
    "\n",
    "Let's download the data for one address and graph it over time with the [Seaborn library](https://seaborn.pydata.org/) taught in the [UF](http://www.ufl.edu/) [Data Science and Informatics student group's](http://www.dsiufl.org/) [DataViz workshop](https://github.com/dsiufl/DataViz)."
   ]
  },
  {
   "cell_type": "markdown",
   "metadata": {},
   "source": [
    "## Retrieve the data\n",
    "\n",
    "The code below is the simplest way to get data. It relies on you finding a dataset identifier and experimenting with constucting URLs after reading the [Socrata getting started](https://dev.socrata.com/consumers/getting-started.html) page.\n",
    "\n",
    "There are libraries for Python that will work with Socrata without this manual work. Refer to their [list of libraries](https://dev.socrata.com/libraries/)."
   ]
  },
  {
   "cell_type": "code",
   "execution_count": 4,
   "metadata": {},
   "outputs": [],
   "source": [
    "# Each Socrata dataset has a unique identifier. This is the one for Gainesville's\n",
    "# electricity usage. You can see this identifier in the URL when browsing the \n",
    "# datasets on the data.gainesville.com web site.\n",
    "data_set_id = \"gk3k-9435\"\n",
    "\n",
    "# Enter a street address to retrieve the electricity usage of. The string\n",
    "# is quoted for use in a URL\n",
    "address = quote_plus(\"2001 NW 21ST ST\")\n",
    "\n",
    "# Build the URL that refers to the electricity data for the address.\n",
    "api_url = (\"https://data.cityofgainesville.org/resource/{0}.json?serviceaddress={1}\"\n",
    "    .format(data_set_id, address))\n",
    "\n",
    "# The URL above returns JSON data which the Pandas library will automatically\n",
    "# parse into a dataframe\n",
    "gru_data = pd.read_json(api_url)"
   ]
  },
  {
   "cell_type": "code",
   "execution_count": 5,
   "metadata": {},
   "outputs": [
    {
     "data": {
      "text/html": [
       "<div>\n",
       "<style>\n",
       "    .dataframe thead tr:only-child th {\n",
       "        text-align: right;\n",
       "    }\n",
       "\n",
       "    .dataframe thead th {\n",
       "        text-align: left;\n",
       "    }\n",
       "\n",
       "    .dataframe tbody tr th {\n",
       "        vertical-align: top;\n",
       "    }\n",
       "</style>\n",
       "<table border=\"1\" class=\"dataframe\">\n",
       "  <thead>\n",
       "    <tr style=\"text-align: right;\">\n",
       "      <th></th>\n",
       "      <th>date</th>\n",
       "      <th>kwh_consumption</th>\n",
       "      <th>location_1</th>\n",
       "      <th>month</th>\n",
       "      <th>servcity</th>\n",
       "      <th>serviceaddress</th>\n",
       "      <th>year</th>\n",
       "    </tr>\n",
       "  </thead>\n",
       "  <tbody>\n",
       "    <tr>\n",
       "      <th>0</th>\n",
       "      <td>2012-01-31</td>\n",
       "      <td>571</td>\n",
       "      <td>{'needs_recoding': False, 'human_address': '{\"...</td>\n",
       "      <td>January</td>\n",
       "      <td>GAINESVILLE</td>\n",
       "      <td>2001 NW 21ST ST</td>\n",
       "      <td>2012</td>\n",
       "    </tr>\n",
       "    <tr>\n",
       "      <th>1</th>\n",
       "      <td>2014-01-31</td>\n",
       "      <td>655</td>\n",
       "      <td>{'needs_recoding': False, 'human_address': '{\"...</td>\n",
       "      <td>January</td>\n",
       "      <td>GAINESVILLE</td>\n",
       "      <td>2001 NW 21ST ST</td>\n",
       "      <td>2014</td>\n",
       "    </tr>\n",
       "    <tr>\n",
       "      <th>2</th>\n",
       "      <td>2015-01-31</td>\n",
       "      <td>801</td>\n",
       "      <td>{'needs_recoding': False, 'human_address': '{\"...</td>\n",
       "      <td>January</td>\n",
       "      <td>GAINESVILLE</td>\n",
       "      <td>2001 NW 21ST ST</td>\n",
       "      <td>2015</td>\n",
       "    </tr>\n",
       "  </tbody>\n",
       "</table>\n",
       "</div>"
      ],
      "text/plain": [
       "        date  kwh_consumption  \\\n",
       "0 2012-01-31              571   \n",
       "1 2014-01-31              655   \n",
       "2 2015-01-31              801   \n",
       "\n",
       "                                          location_1    month     servcity  \\\n",
       "0  {'needs_recoding': False, 'human_address': '{\"...  January  GAINESVILLE   \n",
       "1  {'needs_recoding': False, 'human_address': '{\"...  January  GAINESVILLE   \n",
       "2  {'needs_recoding': False, 'human_address': '{\"...  January  GAINESVILLE   \n",
       "\n",
       "    serviceaddress  year  \n",
       "0  2001 NW 21ST ST  2012  \n",
       "1  2001 NW 21ST ST  2014  \n",
       "2  2001 NW 21ST ST  2015  "
      ]
     },
     "execution_count": 5,
     "metadata": {},
     "output_type": "execute_result"
    }
   ],
   "source": [
    "# Look at the first three rows of the data returned\n",
    "gru_data.head(3)"
   ]
  },
  {
   "cell_type": "code",
   "execution_count": 6,
   "metadata": {},
   "outputs": [
    {
     "data": {
      "text/plain": [
       "date               datetime64[ns]\n",
       "kwh_consumption             int64\n",
       "location_1                 object\n",
       "month                      object\n",
       "servcity                   object\n",
       "serviceaddress             object\n",
       "year                        int64\n",
       "dtype: object"
      ]
     },
     "execution_count": 6,
     "metadata": {},
     "output_type": "execute_result"
    }
   ],
   "source": [
    "# Examine the data types of the dataframe\n",
    "gru_data.dtypes"
   ]
  },
  {
   "cell_type": "code",
   "execution_count": 12,
   "metadata": {},
   "outputs": [
    {
     "name": "stdout",
     "output_type": "stream",
     "text": [
      "2012-01-31 00:00:00\n",
      "2018-07-31 00:00:00\n"
     ]
    }
   ],
   "source": [
    "print(min(gru_data.date))\n",
    "print(max(gru_data.date))"
   ]
  },
  {
   "cell_type": "code",
   "execution_count": 9,
   "metadata": {},
   "outputs": [
    {
     "name": "stderr",
     "output_type": "stream",
     "text": [
      "/usr/local/lib/python3.5/dist-packages/seaborn/timeseries.py:183: UserWarning: The `tsplot` function is deprecated and will be removed in a future release. Please update your code to use the new `lineplot` function.\n",
      "  warnings.warn(msg, UserWarning)\n",
      "/usr/local/lib/python3.5/dist-packages/seaborn/algorithms.py:88: RuntimeWarning: Mean of empty slice\n",
      "  boot_dist.append(f(*sample, **func_kwargs))\n"
     ]
    },
    {
     "data": {
      "image/png": "[encoded data removed]",
      "text/plain": [
       "<matplotlib.figure.Figure at 0x7fe76863ccf8>"
      ]
     },
     "metadata": {},
     "output_type": "display_data"
    }
   ],
   "source": [
    "# Graph the electricity consumption over time\n",
    "fig = sns.tsplot(data=gru_data, time=\"date\", value=\"kwh_consumption\", estimator=nanmean)"
   ]
  },
  {
   "cell_type": "markdown",
   "metadata": {},
   "source": [
    "In the above call to Seaborn's tsplot function, changing the estimator to the nanmean function allows Seaborn to\n",
    "calculate averages at each date without having to clean our data. The [tsplot](https://seaborn.pydata.org/generated/seaborn.tsplot.html#seaborn.tsplot) function\n",
    "is designed to average multiple values at each time period; in our example data we\n",
    "only have one value but sometimes it is empty.\n",
    "\n",
    "Reference:\n",
    "\n",
    "http://stackoverflow.com/questions/29156464/seaborn-tsplot-not-showing-ci-bands"
   ]
  }
 ],
 "metadata": {
  "kernelspec": {
   "display_name": "Python 3",
   "language": "python",
   "name": "python3"
  },
  "language_info": {
   "codemirror_mode": {
    "name": "ipython",
    "version": 3
   },
   "file_extension": ".py",
   "mimetype": "text/x-python",
   "name": "python",
   "nbconvert_exporter": "python",
   "pygments_lexer": "ipython3",
   "version": "3.5.2"
  }
 },
 "nbformat": 4,
 "nbformat_minor": 1
}
