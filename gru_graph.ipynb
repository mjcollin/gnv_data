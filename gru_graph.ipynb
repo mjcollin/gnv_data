{
 "cells": [
  {
   "cell_type": "code",
   "execution_count": 28,
   "metadata": {
    "collapsed": false
   },
   "outputs": [],
   "source": [
    "%matplotlib inline\n",
    "from urllib import quote_plus\n",
    "import scipy\n",
    "import pandas as pd\n",
    "import seaborn as sns"
   ]
  },
  {
   "cell_type": "markdown",
   "metadata": {},
   "source": [
    "# Graphing GRU data from the Gainesville data portal\n",
    "\n",
    "This notebook is a simple example of retrieving and working with data from the \n",
    "City of Gainesville Floida's [open data portal](https://data.cityofgainesville.org/).\n",
    "This site makes data availible through the [Socrata](https://socrata.com/) software service. Documentation for working with the Socrata API is on their [developer site](https://dev.socrata.com/consumers/getting-started.html).\n",
    "\n",
    "One of the datasets that Gainesville makes availible is the monthy electricity usage from the [Gainesville Regional Utilities](http://www.gru.com/) billing records for every property in town. This data is part of the public record.\n",
    "\n",
    "Let's download the data for one address and graph it over time with the [Seaborn library](https://seaborn.pydata.org/) taught in the [UF](http://www.ufl.edu/) [Data Science and Informatics student group's](http://www.dsiufl.org/) [DataViz workshop](https://github.com/dsiufl/DataViz)."
   ]
  },
  {
   "cell_type": "markdown",
   "metadata": {},
   "source": [
    "## Retrieve the data\n",
    "\n",
    "The code below is the simplest way to get data. It relies on you finding a dataset identifier and experimenting with constucting URLs after reading the [Socrata getting started](https://dev.socrata.com/consumers/getting-started.html) page.\n",
    "\n",
    "There are libraries for Python that will work with Socrata without this manual work. Refer to their [list of libraries](https://dev.socrata.com/libraries/)."
   ]
  },
  {
   "cell_type": "code",
   "execution_count": 29,
   "metadata": {
    "collapsed": false
   },
   "outputs": [],
   "source": [
    "# Each Socrata dataset has a unique identifier. This is the one for Gainesville's\n",
    "# electricity usage. You can see this identifier in the URL when browsing the \n",
    "# datasets on the data.gainesville.com web site.\n",
    "data_set_id = \"gk3k-9435\"\n",
    "\n",
    "# Enter a street address to retrieve the electricity usage of. The string\n",
    "# is quoted for use in a URL\n",
    "address = quote_plus(\"2001 NW 21ST ST\")\n",
    "\n",
    "# Build the URL that refers to the electricity data for the address.\n",
    "api_url = (\"https://data.cityofgainesville.org/resource/{0}.json?serviceaddress={1}\"\n",
    "    .format(data_set_id, address))\n",
    "\n",
    "# The URL above returns JSON data which the Pandas library will automatically\n",
    "# parse into a dataframe\n",
    "gru_data = pd.read_json(api_url)"
   ]
  },
  {
   "cell_type": "code",
   "execution_count": 30,
   "metadata": {
    "collapsed": false
   },
   "outputs": [
    {
     "data": {
      "text/html": [
       "<div>\n",
       "<table border=\"1\" class=\"dataframe\">\n",
       "  <thead>\n",
       "    <tr style=\"text-align: right;\">\n",
       "      <th></th>\n",
       "      <th>date</th>\n",
       "      <th>kwh_consumption</th>\n",
       "      <th>location_1</th>\n",
       "      <th>month</th>\n",
       "      <th>servcity</th>\n",
       "      <th>serviceaddress</th>\n",
       "      <th>year</th>\n",
       "    </tr>\n",
       "  </thead>\n",
       "  <tbody>\n",
       "    <tr>\n",
       "      <th>0</th>\n",
       "      <td>2014-01-31</td>\n",
       "      <td>655</td>\n",
       "      <td>{u'latitude': u'29.671619', u'needs_recoding':...</td>\n",
       "      <td>January</td>\n",
       "      <td>GAINESVILLE</td>\n",
       "      <td>2001 NW 21ST ST</td>\n",
       "      <td>2014</td>\n",
       "    </tr>\n",
       "    <tr>\n",
       "      <th>1</th>\n",
       "      <td>2015-01-31</td>\n",
       "      <td>801</td>\n",
       "      <td>{u'latitude': u'29.671619', u'needs_recoding':...</td>\n",
       "      <td>January</td>\n",
       "      <td>GAINESVILLE</td>\n",
       "      <td>2001 NW 21ST ST</td>\n",
       "      <td>2015</td>\n",
       "    </tr>\n",
       "    <tr>\n",
       "      <th>2</th>\n",
       "      <td>2013-01-31</td>\n",
       "      <td>484</td>\n",
       "      <td>{u'latitude': u'29.671619', u'needs_recoding':...</td>\n",
       "      <td>January</td>\n",
       "      <td>GAINESVILLE</td>\n",
       "      <td>2001 NW 21ST ST</td>\n",
       "      <td>2013</td>\n",
       "    </tr>\n",
       "  </tbody>\n",
       "</table>\n",
       "</div>"
      ],
      "text/plain": [
       "        date  kwh_consumption  \\\n",
       "0 2014-01-31              655   \n",
       "1 2015-01-31              801   \n",
       "2 2013-01-31              484   \n",
       "\n",
       "                                          location_1    month     servcity  \\\n",
       "0  {u'latitude': u'29.671619', u'needs_recoding':...  January  GAINESVILLE   \n",
       "1  {u'latitude': u'29.671619', u'needs_recoding':...  January  GAINESVILLE   \n",
       "2  {u'latitude': u'29.671619', u'needs_recoding':...  January  GAINESVILLE   \n",
       "\n",
       "    serviceaddress  year  \n",
       "0  2001 NW 21ST ST  2014  \n",
       "1  2001 NW 21ST ST  2015  \n",
       "2  2001 NW 21ST ST  2013  "
      ]
     },
     "execution_count": 30,
     "metadata": {},
     "output_type": "execute_result"
    }
   ],
   "source": [
    "# Look at the first three rows of the data returned\n",
    "gru_data.head(3)"
   ]
  },
  {
   "cell_type": "code",
   "execution_count": 31,
   "metadata": {
    "collapsed": false
   },
   "outputs": [
    {
     "data": {
      "text/plain": [
       "date               datetime64[ns]\n",
       "kwh_consumption             int64\n",
       "location_1                 object\n",
       "month                      object\n",
       "servcity                   object\n",
       "serviceaddress             object\n",
       "year                        int64\n",
       "dtype: object"
      ]
     },
     "execution_count": 31,
     "metadata": {},
     "output_type": "execute_result"
    }
   ],
   "source": [
    "# Examine the data types of the dataframe\n",
    "gru_data.dtypes"
   ]
  },
  {
   "cell_type": "code",
   "execution_count": 32,
   "metadata": {
    "collapsed": false
   },
   "outputs": [
    {
     "data": {
      "image/png": "[encoded data removed]",
      "text/plain": [
       "<matplotlib.figure.Figure at 0xb390ba8>"
      ]
     },
     "metadata": {},
     "output_type": "display_data"
    }
   ],
   "source": [
    "# Graph the electricity consumption over time\n",
    "fig = sns.tsplot(data=gru_data, time=\"date\", value=\"kwh_consumption\", estimator=scipy.stats.nanmean)"
   ]
  },
  {
   "cell_type": "markdown",
   "metadata": {},
   "source": [
    "In the above call to Seaborn's tsplot function, changing the estimator to the scipy.stats.nanmean function allows Seaborn to\n",
    "calculate averages at each date without having to clean our data. The [tsplot](https://seaborn.pydata.org/generated/seaborn.tsplot.html#seaborn.tsplot) function\n",
    "is designed to average multiple values at each time period; in our example data we\n",
    "only have one value but sometimes it is empty.\n",
    "\n",
    "Reference:\n",
    "\n",
    "http://stackoverflow.com/questions/29156464/seaborn-tsplot-not-showing-ci-bands"
   ]
  }
 ],
 "metadata": {
  "kernelspec": {
   "display_name": "Python 2",
   "language": "python",
   "name": "python2"
  },
  "language_info": {
   "codemirror_mode": {
    "name": "ipython",
    "version": 2
   },
   "file_extension": ".py",
   "mimetype": "text/x-python",
   "name": "python",
   "nbconvert_exporter": "python",
   "pygments_lexer": "ipython2",
   "version": "2.7.12"
  }
 },
 "nbformat": 4,
 "nbformat_minor": 0
}
